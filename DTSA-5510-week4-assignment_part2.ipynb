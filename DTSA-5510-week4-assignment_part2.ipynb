{
 "cells": [
  {
   "cell_type": "markdown",
   "metadata": {},
   "source": [
    "# DTSA-5510 Week 4 Assignment\n",
    "\n",
    "In part 2 of this assignment, I applied non-negative matrix factorization (NMF) to the movie ratings data set from module 3 and compared results with the recommender systems from that assignment."
   ]
  },
  {
   "cell_type": "markdown",
   "metadata": {},
   "source": [
    "## Part 2"
   ]
  },
  {
   "cell_type": "markdown",
   "metadata": {},
   "source": [
    "We'll import data from the movie ratings recommender system assignment in module 3, build an NMF model to predict users' movie ratings, and compare with the actual ratings matrix."
   ]
  },
  {
   "cell_type": "markdown",
   "metadata": {},
   "source": [
    "We'll create a `ratings_matrix` with rows representing users and colunns representing movies (values in columns are users' ratings from 1 to 5 - zero values are supposed to indicate that the user has not rated a movie)."
   ]
  },
  {
   "cell_type": "code",
   "execution_count": 21,
   "metadata": {},
   "outputs": [],
   "source": [
    "movies_train_df = pd.read_csv(\"./data/movies_data/train.csv\")\n",
    "\n",
    "ratings_df = movies_train_df.pivot(index='uID', columns='mID', values='rating').fillna(0)\n",
    "ratings_matrix = ratings_df.to_numpy().astype(float)"
   ]
  },
  {
   "cell_type": "markdown",
   "metadata": {},
   "source": [
    "Next we'll use the scikit-learn [NMF](https://scikit-learn.org/stable/modules/generated/sklearn.decomposition.NMF.html) class again to build a non-negative matrix factorization model, and we'll factor out our W and H matrices. We'll choose `n_components=20` because there were 20 metadata columns for each movie in the `MV_movies` data set from module 3."
   ]
  },
  {
   "cell_type": "code",
   "execution_count": 22,
   "metadata": {},
   "outputs": [],
   "source": [
    "nmf_model = NMF(n_components=20, init='random', random_state=42, max_iter=500)\n",
    "W = nmf_model.fit_transform(ratings_matrix)\n",
    "H = nmf_model.components_"
   ]
  },
  {
   "cell_type": "markdown",
   "metadata": {},
   "source": [
    "Now we'll approximate the `ratings_matrix` by matrix-multiplying W and H together."
   ]
  },
  {
   "cell_type": "code",
   "execution_count": 23,
   "metadata": {},
   "outputs": [],
   "source": [
    "WH = np.dot(W, H)"
   ]
  },
  {
   "cell_type": "markdown",
   "metadata": {},
   "source": [
    "And we'll calculate the element-wise RMSE between the entries in `ratings_matrix` and `WH`. We exclude the 0 values in `ratings_matrix` from the RMSE calculation because zeros represent missing ratings in the original dataset—i.e., movies the users did not rate."
   ]
  },
  {
   "cell_type": "code",
   "execution_count": 24,
   "metadata": {},
   "outputs": [
    {
     "name": "stdout",
     "output_type": "stream",
     "text": [
      "RMSE = 2.775512629076963\n"
     ]
    }
   ],
   "source": [
    "mask = ratings_matrix > 0\n",
    "rmse = np.sqrt(np.mean((ratings_matrix[mask] - WH[mask]) ** 2))\n",
    "print(f\"RMSE = {rmse}\")"
   ]
  },
  {
   "cell_type": "markdown",
   "metadata": {},
   "source": [
    "The RMSE of ~2.78 is considerably higher than the recommender system RMSE best of ~0.95 from module 3. This is likely due to the NMF treatment of 0 values in `ratings_matrix` where 0 is handled as an actual rating rather than a non-rating. Perhaps a more sophisticated type of NMF algorithm that allows exclusion of 0 values would fix this."
   ]
  }
 ],
 "metadata": {
  "kernelspec": {
   "display_name": "py3.12",
   "language": "python",
   "name": "python3"
  },
  "language_info": {
   "codemirror_mode": {
    "name": "ipython",
    "version": 3
   },
   "file_extension": ".py",
   "mimetype": "text/x-python",
   "name": "python",
   "nbconvert_exporter": "python",
   "pygments_lexer": "ipython3",
   "version": "3.12.9"
  }
 },
 "nbformat": 4,
 "nbformat_minor": 2
}
